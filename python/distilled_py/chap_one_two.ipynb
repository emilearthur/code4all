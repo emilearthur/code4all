{
 "cells": [
  {
   "cell_type": "code",
   "execution_count": 1,
   "metadata": {},
   "outputs": [
    {
     "name": "stdout",
     "output_type": "stream",
     "text": [
      "2 to the 1 power is 2\n",
      "2 to the 2 power is 4\n",
      "2 to the 45 power is 90\n"
     ]
    }
   ],
   "source": [
    "for n in [1,2,45]:\n",
    "    print(f\"2 to the {n} power is {2*n}\")"
   ]
  },
  {
   "cell_type": "code",
   "execution_count": 2,
   "metadata": {},
   "outputs": [
    {
     "data": {
      "text/plain": [
       "['__add__',\n",
       " '__class__',\n",
       " '__contains__',\n",
       " '__delattr__',\n",
       " '__delitem__',\n",
       " '__dir__',\n",
       " '__doc__',\n",
       " '__eq__',\n",
       " '__format__',\n",
       " '__ge__',\n",
       " '__getattribute__',\n",
       " '__getitem__',\n",
       " '__gt__',\n",
       " '__hash__',\n",
       " '__iadd__',\n",
       " '__imul__',\n",
       " '__init__',\n",
       " '__init_subclass__',\n",
       " '__iter__',\n",
       " '__le__',\n",
       " '__len__',\n",
       " '__lt__',\n",
       " '__mul__',\n",
       " '__ne__',\n",
       " '__new__',\n",
       " '__reduce__',\n",
       " '__reduce_ex__',\n",
       " '__repr__',\n",
       " '__reversed__',\n",
       " '__rmul__',\n",
       " '__setattr__',\n",
       " '__setitem__',\n",
       " '__sizeof__',\n",
       " '__str__',\n",
       " '__subclasshook__',\n",
       " 'append',\n",
       " 'clear',\n",
       " 'copy',\n",
       " 'count',\n",
       " 'extend',\n",
       " 'index',\n",
       " 'insert',\n",
       " 'pop',\n",
       " 'remove',\n",
       " 'reverse',\n",
       " 'sort']"
      ]
     },
     "execution_count": 2,
     "metadata": {},
     "output_type": "execute_result"
    }
   ],
   "source": [
    "## object classes \n",
    "\n",
    "items = [37, 42]\n",
    "items.append(72)\n",
    "\n",
    "dir(items)"
   ]
  },
  {
   "cell_type": "code",
   "execution_count": 3,
   "metadata": {},
   "outputs": [
    {
     "data": {
      "text/plain": [
       "[37, 42, 72, 45, 300]"
      ]
     },
     "execution_count": 3,
     "metadata": {},
     "output_type": "execute_result"
    }
   ],
   "source": [
    "items.__add__([45, 300])"
   ]
  },
  {
   "cell_type": "code",
   "execution_count": 8,
   "metadata": {},
   "outputs": [],
   "source": [
    "from typing import Any\n",
    "class Stack:\n",
    "    def __init__(self) -> None:\n",
    "        self._items = []\n",
    "\n",
    "    def push(self, item: Any) -> None:\n",
    "        self._items.append(item)\n",
    "\n",
    "    def pop(self):\n",
    "        return self._items.pop()\n",
    "\n",
    "    def __repr__(self) -> str:\n",
    "        return f\"<{type(self).__name__} at 0x{id(self):x}, size={len(self)}>\"\n",
    "\n",
    "    def __len__(self) -> int:\n",
    "        return len(self._items)\n",
    "\n",
    "\n",
    "\n",
    "s = Stack()\n",
    "s.push(\"Dave\")\n",
    "s.push(42)\n",
    "s.push([3,4,5])\n",
    "\n",
    "x = s.pop()\n",
    "y = s.pop()\n"
   ]
  },
  {
   "cell_type": "code",
   "execution_count": 9,
   "metadata": {},
   "outputs": [
    {
     "data": {
      "text/plain": [
       "(1, <Stack at 0x7f7b3081cbb0, size=1>)"
      ]
     },
     "execution_count": 9,
     "metadata": {},
     "output_type": "execute_result"
    }
   ],
   "source": [
    "len(s), s"
   ]
  },
  {
   "cell_type": "code",
   "execution_count": 10,
   "metadata": {},
   "outputs": [
    {
     "data": {
      "text/plain": [
       "('Dave', 42)"
      ]
     },
     "execution_count": 10,
     "metadata": {},
     "output_type": "execute_result"
    }
   ],
   "source": [
    "## inheritance \n",
    "\n",
    "class Mystack(Stack):\n",
    "    def swap(self):\n",
    "        a = self.pop()\n",
    "        b = self.pop()\n",
    "        self.push(a)\n",
    "        self.push(b)\n",
    "\n",
    "\n",
    "s = Mystack()\n",
    "s.push(\"Dave\")\n",
    "s.push(42)\n",
    "s.swap()\n",
    "s.pop(), s.pop()"
   ]
  },
  {
   "cell_type": "code",
   "execution_count": 14,
   "metadata": {},
   "outputs": [
    {
     "ename": "TypeError",
     "evalue": "Expected an int or float",
     "output_type": "error",
     "traceback": [
      "\u001b[0;31m---------------------------------------------------------------------------\u001b[0m",
      "\u001b[0;31mTypeError\u001b[0m                                 Traceback (most recent call last)",
      "\u001b[0;32m<ipython-input-14-a7d30c92fe71>\u001b[0m in \u001b[0;36m<module>\u001b[0;34m\u001b[0m\n\u001b[1;32m     11\u001b[0m \u001b[0ms\u001b[0m \u001b[0;34m=\u001b[0m \u001b[0mNumericStack\u001b[0m\u001b[0;34m(\u001b[0m\u001b[0;34m)\u001b[0m\u001b[0;34m\u001b[0m\u001b[0;34m\u001b[0m\u001b[0m\n\u001b[1;32m     12\u001b[0m \u001b[0ms\u001b[0m\u001b[0;34m.\u001b[0m\u001b[0mpush\u001b[0m\u001b[0;34m(\u001b[0m\u001b[0;36m42\u001b[0m\u001b[0;34m)\u001b[0m\u001b[0;34m\u001b[0m\u001b[0;34m\u001b[0m\u001b[0m\n\u001b[0;32m---> 13\u001b[0;31m \u001b[0ms\u001b[0m\u001b[0;34m.\u001b[0m\u001b[0mpush\u001b[0m\u001b[0;34m(\u001b[0m\u001b[0;34m\"Made\"\u001b[0m\u001b[0;34m)\u001b[0m\u001b[0;34m\u001b[0m\u001b[0;34m\u001b[0m\u001b[0m\n\u001b[0m",
      "\u001b[0;32m<ipython-input-14-a7d30c92fe71>\u001b[0m in \u001b[0;36mpush\u001b[0;34m(self, item)\u001b[0m\n\u001b[1;32m      5\u001b[0m     \u001b[0;32mdef\u001b[0m \u001b[0mpush\u001b[0m\u001b[0;34m(\u001b[0m\u001b[0mself\u001b[0m\u001b[0;34m,\u001b[0m \u001b[0mitem\u001b[0m\u001b[0;34m:\u001b[0m \u001b[0mAny\u001b[0m\u001b[0;34m)\u001b[0m\u001b[0;34m:\u001b[0m\u001b[0;34m\u001b[0m\u001b[0;34m\u001b[0m\u001b[0m\n\u001b[1;32m      6\u001b[0m         \u001b[0;32mif\u001b[0m \u001b[0;32mnot\u001b[0m \u001b[0misinstance\u001b[0m\u001b[0;34m(\u001b[0m\u001b[0mitem\u001b[0m\u001b[0;34m,\u001b[0m \u001b[0;34m(\u001b[0m\u001b[0mint\u001b[0m\u001b[0;34m,\u001b[0m \u001b[0mfloat\u001b[0m\u001b[0;34m)\u001b[0m\u001b[0;34m)\u001b[0m\u001b[0;34m:\u001b[0m\u001b[0;34m\u001b[0m\u001b[0;34m\u001b[0m\u001b[0m\n\u001b[0;32m----> 7\u001b[0;31m             \u001b[0;32mraise\u001b[0m \u001b[0mTypeError\u001b[0m\u001b[0;34m(\u001b[0m\u001b[0;34m\"Expected an int or float\"\u001b[0m\u001b[0;34m)\u001b[0m\u001b[0;34m\u001b[0m\u001b[0;34m\u001b[0m\u001b[0m\n\u001b[0m\u001b[1;32m      8\u001b[0m         \u001b[0msuper\u001b[0m\u001b[0;34m(\u001b[0m\u001b[0;34m)\u001b[0m\u001b[0;34m.\u001b[0m\u001b[0mpush\u001b[0m\u001b[0;34m(\u001b[0m\u001b[0mitem\u001b[0m\u001b[0;34m)\u001b[0m\u001b[0;34m\u001b[0m\u001b[0;34m\u001b[0m\u001b[0m\n\u001b[1;32m      9\u001b[0m \u001b[0;34m\u001b[0m\u001b[0m\n",
      "\u001b[0;31mTypeError\u001b[0m: Expected an int or float"
     ]
    }
   ],
   "source": [
    "# inheritance change of behaviour \n",
    "from typing import Any\n",
    "\n",
    "class NumericStack(Stack):\n",
    "    def push(self, item: Any):\n",
    "        if not isinstance(item, (int, float)):\n",
    "            raise TypeError(\"Expected an int or float\")\n",
    "        super().push(item)\n",
    "        \n",
    "## raising error \n",
    "s = NumericStack()\n",
    "s.push(42)\n",
    "s.push(\"Made\")"
   ]
  },
  {
   "cell_type": "code",
   "execution_count": 15,
   "metadata": {},
   "outputs": [],
   "source": [
    "## instad of using inheritance for calculator, we build class\n",
    "\n",
    "class Calculator:\n",
    "    def __init__(self) -> None:\n",
    "        self._stack = Stack()   # composition here \n",
    "\n",
    "    def push(self, item):\n",
    "        self._stack.push(item)\n",
    "\n",
    "    def pop(self):\n",
    "        return self._stack.pop()\n",
    "\n",
    "    def add(self):\n",
    "        return self.push(self.pop() + self.pop())\n",
    "\n",
    "    def mul(self):\n",
    "        self.push(self.pop() * self.pop())\n",
    "\n",
    "    def sub(self):\n",
    "        right = self.pop()\n",
    "        self.push(self.pop() - right)\n",
    "\n",
    "    def div(self):\n",
    "        right = self.pop()\n",
    "        self.push(self.pop() / right)"
   ]
  },
  {
   "cell_type": "code",
   "execution_count": 5,
   "metadata": {},
   "outputs": [
    {
     "data": {
      "text/plain": [
       "(['IBM', 'MSFT', 'HPE', 'CAT', 'IBM'],\n",
       " ['IBM'],\n",
       " 37105.15,\n",
       " [('IBM', 100), ('MSFT', 50), ('HPE', 75), ('CAT', 60), ('IBM', 200)],\n",
       " {'IBM': 95.25, 'MSFT': 45.67, 'HPE': 34.51, 'CAT': 67.89})"
      ]
     },
     "execution_count": 5,
     "metadata": {},
     "output_type": "execute_result"
    }
   ],
   "source": [
    "## list comprehension\n",
    "\n",
    "portfolio = [\n",
    "    {'name': 'IBM', 'shares': 100, 'price': 91.1 },\n",
    "    {'name': 'MSFT', 'shares': 50, 'price': 45.67 },\n",
    "    {'name': 'HPE', 'shares': 75, 'price': 34.51 },\n",
    "    {'name': 'CAT', 'shares': 60, 'price': 67.89 },\n",
    "    {'name': 'IBM', 'shares': 200, 'price': 95.25 }\n",
    "]\n",
    "\n",
    "\n",
    "names = [s['name'] for s in portfolio] # collect all names.\n",
    "more100 = [s['name'] for s in portfolio if s['shares'] > 100]\n",
    "cost = sum([s['shares'] * s['price'] for s in portfolio])\n",
    "name_shares = [ (s['name'], s['shares']) for s in portfolio]\n",
    "prices = {s['name']:s['price'] for s in portfolio}\n",
    "\n",
    "names, more100, cost, name_shares, prices"
   ]
  },
  {
   "cell_type": "code",
   "execution_count": 11,
   "metadata": {},
   "outputs": [
    {
     "data": {
      "text/plain": [
       "([1, 2, -4, None, -3, 5], [1, 2, -4, -3, 5], [1, 2, -4, -3, 5], [1, 2, 5])"
      ]
     },
     "execution_count": 11,
     "metadata": {},
     "output_type": "execute_result"
    }
   ],
   "source": [
    "def toint(x):\n",
    "    try:\n",
    "        return int(x)\n",
    "    except ValueError:\n",
    "        return None\n",
    "\n",
    "values = [ '1', '2', '-4', 'n/a', '-3', '5' ]\n",
    "\n",
    "data1 = [toint(x) for x in values]\n",
    "data2 = [toint(x) for x in values if toint(x) is not None]\n",
    "data3 = [v for x in values if (v:=toint(x)) is not None]\n",
    "data4 = [v for x in values if (v:=toint(x)) is not None and v>= 0]\n",
    "\n",
    "data1, data2, data3, data4"
   ]
  },
  {
   "cell_type": "code",
   "execution_count": 19,
   "metadata": {},
   "outputs": [
    {
     "name": "stdout",
     "output_type": "stream",
     "text": [
      "Failed: None\n"
     ]
    }
   ],
   "source": [
    "## exception \n",
    "try:\n",
    "    int('N/A')\n",
    "except ValueError as e:\n",
    "    print(\"Failed:\", e.__cause__)\n",
    "\n",
    "\n",
    "# handling exception blocks \n",
    "try:\n",
    "    ...\n",
    "except TypeError as e:\n",
    "    ...\n",
    "except ValueError as e:\n",
    "    ...\n",
    "except IndexError:\n",
    "    pass    # catching all errors with exceptions\n",
    "except Exception as e:       # \n",
    "    print(f\"An error occurred: {e!r}\")\n",
    "\n",
    "\n",
    "# try execept else statement\n",
    "try: \n",
    "    ...\n",
    "except FileNotFoundError as e:\n",
    "    print(f\"Unable to open file: {e}\")\n",
    "else:\n",
    "    ...\n",
    "\n",
    "\n",
    "# try finally. finally statement defines a cleanup action that must execute regardless\n",
    "# of the try-exccept block\n",
    "\n",
    "try:\n",
    "    ...\n",
    "except:\n",
    "    ...\n",
    "finally:\n",
    "    ..."
   ]
  },
  {
   "cell_type": "code",
   "execution_count": 20,
   "metadata": {},
   "outputs": [],
   "source": [
    "# the Exception Hierarchy\n",
    "# instead of index error and keyerror as below\n",
    "try:\n",
    "    ...\n",
    "except IndexError:\n",
    "    ...\n",
    "except KeyError:\n",
    "    ...\n",
    "\n",
    "# we can replace with \n",
    "try:\n",
    "    ...\n",
    "except LookupError: # high level grouping of exceptions. Both index and key error inherits from this.\n",
    "    ..."
   ]
  },
  {
   "cell_type": "code",
   "execution_count": 22,
   "metadata": {},
   "outputs": [
    {
     "ename": "NetworkError",
     "evalue": "Cannot find host",
     "output_type": "error",
     "traceback": [
      "\u001b[0;31m---------------------------------------------------------------------------\u001b[0m",
      "\u001b[0;31mNetworkError\u001b[0m                              Traceback (most recent call last)",
      "\u001b[0;32m<ipython-input-22-a0bcdc89ee04>\u001b[0m in \u001b[0;36m<module>\u001b[0;34m\u001b[0m\n\u001b[1;32m      3\u001b[0m     \u001b[0;32mpass\u001b[0m\u001b[0;34m\u001b[0m\u001b[0;34m\u001b[0m\u001b[0m\n\u001b[1;32m      4\u001b[0m \u001b[0;34m\u001b[0m\u001b[0m\n\u001b[0;32m----> 5\u001b[0;31m \u001b[0;32mraise\u001b[0m \u001b[0mNetworkError\u001b[0m\u001b[0;34m(\u001b[0m\u001b[0;34m\"Cannot find host\"\u001b[0m\u001b[0;34m)\u001b[0m\u001b[0;34m\u001b[0m\u001b[0;34m\u001b[0m\u001b[0m\n\u001b[0m",
      "\u001b[0;31mNetworkError\u001b[0m: Cannot find host"
     ]
    }
   ],
   "source": [
    "# Definning new exceptions \n",
    "class NetworkError(Exception):\n",
    "    pass\n",
    "\n",
    "raise NetworkError(\"Cannot find host\")"
   ]
  },
  {
   "cell_type": "code",
   "execution_count": 26,
   "metadata": {},
   "outputs": [
    {
     "ename": "DeviceError",
     "evalue": "(1, 'Not Responding')",
     "output_type": "error",
     "traceback": [
      "\u001b[0;31m---------------------------------------------------------------------------\u001b[0m",
      "\u001b[0;31mDeviceError\u001b[0m                               Traceback (most recent call last)",
      "\u001b[0;32m<ipython-input-26-b2af255966e8>\u001b[0m in \u001b[0;36m<module>\u001b[0;34m\u001b[0m\n\u001b[1;32m      5\u001b[0m         \u001b[0mself\u001b[0m\u001b[0;34m.\u001b[0m\u001b[0merrmsg\u001b[0m \u001b[0;34m=\u001b[0m \u001b[0mmsg\u001b[0m\u001b[0;34m\u001b[0m\u001b[0;34m\u001b[0m\u001b[0m\n\u001b[1;32m      6\u001b[0m \u001b[0;34m\u001b[0m\u001b[0m\n\u001b[0;32m----> 7\u001b[0;31m \u001b[0;32mraise\u001b[0m \u001b[0mDeviceError\u001b[0m\u001b[0;34m(\u001b[0m\u001b[0;36m1\u001b[0m\u001b[0;34m,\u001b[0m \u001b[0;34m\"Not Responding\"\u001b[0m\u001b[0;34m)\u001b[0m\u001b[0;34m\u001b[0m\u001b[0;34m\u001b[0m\u001b[0m\n\u001b[0m",
      "\u001b[0;31mDeviceError\u001b[0m: (1, 'Not Responding')"
     ]
    }
   ],
   "source": [
    "class DeviceError(Exception):\n",
    "    def __init__(self, errno: int, msg: str) -> None:\n",
    "        self.args = (errno, msg) ## important. Used to attribe self.args.\n",
    "        self.errno = errno \n",
    "        self.errmsg = msg\n",
    "\n",
    "raise DeviceError(1, \"Not Responding\")"
   ]
  },
  {
   "cell_type": "code",
   "execution_count": 29,
   "metadata": {},
   "outputs": [
    {
     "name": "stdout",
     "output_type": "stream",
     "text": [
      "('Unknown host',)\n"
     ]
    }
   ],
   "source": [
    "## exceptions orgainization via hierarchy\n",
    "class HostnameError(NetworkError):\n",
    "    pass\n",
    "\n",
    "class TimeoutError(NetworkError):\n",
    "    pass\n",
    "\n",
    "def error1():\n",
    "    raise HostnameError(\"Unknown host\")\n",
    "\n",
    "def errror2():\n",
    "    raise TimeoutError(\"Timed out\")\n",
    "\n",
    "try:\n",
    "    error1()\n",
    "except NetworkError as e:\n",
    "    if type(e) is HostnameError:\n",
    "        print(e.args)"
   ]
  },
  {
   "cell_type": "code",
   "execution_count": 33,
   "metadata": {},
   "outputs": [
    {
     "ename": "ApplicationError",
     "evalue": "It failed",
     "output_type": "error",
     "traceback": [
      "\u001b[0;31m---------------------------------------------------------------------------\u001b[0m",
      "\u001b[0;31mValueError\u001b[0m                                Traceback (most recent call last)",
      "\u001b[0;32m<ipython-input-33-cc49a49eea8b>\u001b[0m in \u001b[0;36mspam\u001b[0;34m()\u001b[0m\n\u001b[1;32m      9\u001b[0m     \u001b[0;32mtry\u001b[0m\u001b[0;34m:\u001b[0m\u001b[0;34m\u001b[0m\u001b[0;34m\u001b[0m\u001b[0m\n\u001b[0;32m---> 10\u001b[0;31m         \u001b[0mdo_something\u001b[0m\u001b[0;34m(\u001b[0m\u001b[0;34m)\u001b[0m\u001b[0;34m\u001b[0m\u001b[0;34m\u001b[0m\u001b[0m\n\u001b[0m\u001b[1;32m     11\u001b[0m     \u001b[0;32mexcept\u001b[0m \u001b[0mException\u001b[0m \u001b[0;32mas\u001b[0m \u001b[0me\u001b[0m\u001b[0;34m:\u001b[0m\u001b[0;34m\u001b[0m\u001b[0;34m\u001b[0m\u001b[0m\n",
      "\u001b[0;32m<ipython-input-33-cc49a49eea8b>\u001b[0m in \u001b[0;36mdo_something\u001b[0;34m()\u001b[0m\n\u001b[1;32m      5\u001b[0m \u001b[0;32mdef\u001b[0m \u001b[0mdo_something\u001b[0m\u001b[0;34m(\u001b[0m\u001b[0;34m)\u001b[0m\u001b[0;34m:\u001b[0m\u001b[0;34m\u001b[0m\u001b[0;34m\u001b[0m\u001b[0m\n\u001b[0;32m----> 6\u001b[0;31m     \u001b[0mx\u001b[0m \u001b[0;34m=\u001b[0m \u001b[0mint\u001b[0m\u001b[0;34m(\u001b[0m\u001b[0;34m\"N/A\"\u001b[0m\u001b[0;34m)\u001b[0m \u001b[0;31m# raises error\u001b[0m\u001b[0;34m\u001b[0m\u001b[0;34m\u001b[0m\u001b[0m\n\u001b[0m\u001b[1;32m      7\u001b[0m \u001b[0;34m\u001b[0m\u001b[0m\n",
      "\u001b[0;31mValueError\u001b[0m: invalid literal for int() with base 10: 'N/A'",
      "\nThe above exception was the direct cause of the following exception:\n",
      "\u001b[0;31mApplicationError\u001b[0m                          Traceback (most recent call last)",
      "\u001b[0;32m<ipython-input-33-cc49a49eea8b>\u001b[0m in \u001b[0;36m<module>\u001b[0;34m\u001b[0m\n\u001b[1;32m     11\u001b[0m     \u001b[0;32mexcept\u001b[0m \u001b[0mException\u001b[0m \u001b[0;32mas\u001b[0m \u001b[0me\u001b[0m\u001b[0;34m:\u001b[0m\u001b[0;34m\u001b[0m\u001b[0;34m\u001b[0m\u001b[0m\n\u001b[1;32m     12\u001b[0m         \u001b[0;32mraise\u001b[0m \u001b[0mApplicationError\u001b[0m\u001b[0;34m(\u001b[0m\u001b[0;34m\"It failed\"\u001b[0m\u001b[0;34m)\u001b[0m \u001b[0;32mfrom\u001b[0m \u001b[0me\u001b[0m \u001b[0;31m# if uncaught ApplicationError occurs, we get message from both exceptions\u001b[0m\u001b[0;34m\u001b[0m\u001b[0;34m\u001b[0m\u001b[0m\n\u001b[0;32m---> 13\u001b[0;31m \u001b[0mspam\u001b[0m\u001b[0;34m(\u001b[0m\u001b[0;34m)\u001b[0m\u001b[0;34m\u001b[0m\u001b[0;34m\u001b[0m\u001b[0m\n\u001b[0m",
      "\u001b[0;32m<ipython-input-33-cc49a49eea8b>\u001b[0m in \u001b[0;36mspam\u001b[0;34m()\u001b[0m\n\u001b[1;32m     10\u001b[0m         \u001b[0mdo_something\u001b[0m\u001b[0;34m(\u001b[0m\u001b[0;34m)\u001b[0m\u001b[0;34m\u001b[0m\u001b[0;34m\u001b[0m\u001b[0m\n\u001b[1;32m     11\u001b[0m     \u001b[0;32mexcept\u001b[0m \u001b[0mException\u001b[0m \u001b[0;32mas\u001b[0m \u001b[0me\u001b[0m\u001b[0;34m:\u001b[0m\u001b[0;34m\u001b[0m\u001b[0;34m\u001b[0m\u001b[0m\n\u001b[0;32m---> 12\u001b[0;31m         \u001b[0;32mraise\u001b[0m \u001b[0mApplicationError\u001b[0m\u001b[0;34m(\u001b[0m\u001b[0;34m\"It failed\"\u001b[0m\u001b[0;34m)\u001b[0m \u001b[0;32mfrom\u001b[0m \u001b[0me\u001b[0m \u001b[0;31m# if uncaught ApplicationError occurs, we get message from both exceptions\u001b[0m\u001b[0;34m\u001b[0m\u001b[0;34m\u001b[0m\u001b[0m\n\u001b[0m\u001b[1;32m     13\u001b[0m \u001b[0mspam\u001b[0m\u001b[0;34m(\u001b[0m\u001b[0;34m)\u001b[0m\u001b[0;34m\u001b[0m\u001b[0;34m\u001b[0m\u001b[0m\n",
      "\u001b[0;31mApplicationError\u001b[0m: It failed"
     ]
    }
   ],
   "source": [
    "### chained exceptions \n",
    "class ApplicationError(Exception):\n",
    "    pass\n",
    "\n",
    "def do_something():\n",
    "    x = int(\"N/A\") # raises error\n",
    "\n",
    "def spam():\n",
    "    try:\n",
    "        do_something()\n",
    "    except Exception as e:\n",
    "        raise ApplicationError(\"It failed\") from e # if uncaught ApplicationError occurs, we get message from both exceptions\n",
    "spam()"
   ]
  },
  {
   "cell_type": "code",
   "execution_count": 49,
   "metadata": {},
   "outputs": [
    {
     "ename": "ApplicationError",
     "evalue": "It failed",
     "output_type": "error",
     "traceback": [
      "\u001b[0;31m---------------------------------------------------------------------------\u001b[0m",
      "\u001b[0;31mApplicationError\u001b[0m                          Traceback (most recent call last)",
      "\u001b[0;32m<ipython-input-49-511de4a02bd5>\u001b[0m in \u001b[0;36m<module>\u001b[0;34m\u001b[0m\n\u001b[1;32m      2\u001b[0m     \u001b[0mdo_something\u001b[0m\u001b[0;34m(\u001b[0m\u001b[0;34m)\u001b[0m\u001b[0;34m\u001b[0m\u001b[0;34m\u001b[0m\u001b[0m\n\u001b[1;32m      3\u001b[0m \u001b[0;32mexcept\u001b[0m \u001b[0mException\u001b[0m \u001b[0;32mas\u001b[0m \u001b[0me\u001b[0m\u001b[0;34m:\u001b[0m\u001b[0;34m\u001b[0m\u001b[0;34m\u001b[0m\u001b[0m\n\u001b[0;32m----> 4\u001b[0;31m     \u001b[0;32mraise\u001b[0m \u001b[0mApplicationError\u001b[0m\u001b[0;34m(\u001b[0m\u001b[0;34m\"It failed\"\u001b[0m\u001b[0;34m)\u001b[0m \u001b[0;32mfrom\u001b[0m \u001b[0;32mNone\u001b[0m\u001b[0;34m\u001b[0m\u001b[0;34m\u001b[0m\u001b[0m\n\u001b[0m",
      "\u001b[0;31mApplicationError\u001b[0m: It failed"
     ]
    }
   ],
   "source": [
    "try:\n",
    "    do_something()\n",
    "except Exception as e:\n",
    "    raise ApplicationError(\"It failed\") from None"
   ]
  },
  {
   "cell_type": "code",
   "execution_count": 48,
   "metadata": {},
   "outputs": [
    {
     "name": "stdout",
     "output_type": "stream",
     "text": [
      "It failed. Reason: invalid literal for int() with base 10: 'N/A'\n"
     ]
    }
   ],
   "source": [
    "\n",
    "try:\n",
    "    spam()\n",
    "except Exception as e:\n",
    "    print(\"It failed. Reason:\", e)\n",
    "    if e.__context__:\n",
    "        print(\"While handling:\", e.__context__)\n",
    "\n"
   ]
  },
  {
   "cell_type": "code",
   "execution_count": 47,
   "metadata": {},
   "outputs": [
    {
     "name": "stdout",
     "output_type": "stream",
     "text": [
      "It failed:\n",
      "Traceback (most recent call last):\n",
      "  File \"<ipython-input-47-57bb774c8dfe>\", line 5, in <module>\n",
      "    spam()\n",
      "  File \"<ipython-input-34-0d15987d9dcd>\", line 3, in spam\n",
      "    do_something()\n",
      "  File \"<ipython-input-33-cc49a49eea8b>\", line 6, in do_something\n",
      "    x = int(\"N/A\") # raises error\n",
      "ValueError: invalid literal for int() with base 10: 'N/A'\n",
      "\n"
     ]
    }
   ],
   "source": [
    "## Exceotion Tracebacks\n",
    "import traceback\n",
    "\n",
    "try:\n",
    "    spam()\n",
    "except Exception as e:\n",
    "    tblines = traceback.format_exception(type(e), e, e.__traceback__)\n",
    "    tbmsg = \"\".join(tblines)\n",
    "    print(\"It failed:\")\n",
    "    print(tbmsg)"
   ]
  },
  {
   "cell_type": "code",
   "execution_count": null,
   "metadata": {},
   "outputs": [],
   "source": []
  },
  {
   "cell_type": "code",
   "execution_count": null,
   "metadata": {},
   "outputs": [],
   "source": []
  },
  {
   "cell_type": "code",
   "execution_count": null,
   "metadata": {},
   "outputs": [],
   "source": []
  },
  {
   "cell_type": "code",
   "execution_count": null,
   "metadata": {},
   "outputs": [],
   "source": []
  },
  {
   "cell_type": "code",
   "execution_count": null,
   "metadata": {},
   "outputs": [],
   "source": []
  }
 ],
 "metadata": {
  "interpreter": {
   "hash": "865936e33a0c9144efab26fa0ff159ccc564deeecda314d005acda55e286245b"
  },
  "kernelspec": {
   "display_name": "Python 3.8.8 64-bit ('ml': conda)",
   "language": "python",
   "name": "python3"
  },
  "language_info": {
   "codemirror_mode": {
    "name": "ipython",
    "version": 3
   },
   "file_extension": ".py",
   "mimetype": "text/x-python",
   "name": "python",
   "nbconvert_exporter": "python",
   "pygments_lexer": "ipython3",
   "version": "3.8.8"
  },
  "orig_nbformat": 4
 },
 "nbformat": 4,
 "nbformat_minor": 2
}
