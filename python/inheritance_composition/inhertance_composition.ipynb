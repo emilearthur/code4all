{
 "cells": [
  {
   "cell_type": "code",
   "execution_count": 1,
   "source": [
    "from IPython.core.interactiveshell import InteractiveShell\n",
    "InteractiveShell.ast_node_interactivity = \"all\""
   ],
   "outputs": [],
   "metadata": {}
  },
  {
   "cell_type": "code",
   "execution_count": 2,
   "source": [
    "!ls"
   ],
   "outputs": [
    {
     "output_type": "stream",
     "name": "stdout",
     "text": [
      "contacts.py    hr.py\t\t\t     productivity.py   program_.py\n",
      "employees.py   hr_.py\t\t\t     productivity_.py  __pycache__\n",
      "employees_.py  inhertance_composition.ipynb  program.py\n"
     ]
    }
   ],
   "metadata": {}
  },
  {
   "cell_type": "markdown",
   "source": [
    "## The object Super Class"
   ],
   "metadata": {}
  },
  {
   "cell_type": "code",
   "execution_count": 3,
   "source": [
    "class MyClass:\n",
    "    pass"
   ],
   "outputs": [],
   "metadata": {}
  },
  {
   "cell_type": "code",
   "execution_count": 4,
   "source": [
    "c = MyClass()\n",
    "dir(c)"
   ],
   "outputs": [
    {
     "output_type": "execute_result",
     "data": {
      "text/plain": [
       "['__class__',\n",
       " '__delattr__',\n",
       " '__dict__',\n",
       " '__dir__',\n",
       " '__doc__',\n",
       " '__eq__',\n",
       " '__format__',\n",
       " '__ge__',\n",
       " '__getattribute__',\n",
       " '__gt__',\n",
       " '__hash__',\n",
       " '__init__',\n",
       " '__init_subclass__',\n",
       " '__le__',\n",
       " '__lt__',\n",
       " '__module__',\n",
       " '__ne__',\n",
       " '__new__',\n",
       " '__reduce__',\n",
       " '__reduce_ex__',\n",
       " '__repr__',\n",
       " '__setattr__',\n",
       " '__sizeof__',\n",
       " '__str__',\n",
       " '__subclasshook__',\n",
       " '__weakref__']"
      ]
     },
     "metadata": {},
     "execution_count": 4
    }
   ],
   "metadata": {}
  },
  {
   "cell_type": "code",
   "execution_count": 5,
   "source": [
    "o = object()\n",
    "dir(o)"
   ],
   "outputs": [
    {
     "output_type": "execute_result",
     "data": {
      "text/plain": [
       "['__class__',\n",
       " '__delattr__',\n",
       " '__dir__',\n",
       " '__doc__',\n",
       " '__eq__',\n",
       " '__format__',\n",
       " '__ge__',\n",
       " '__getattribute__',\n",
       " '__gt__',\n",
       " '__hash__',\n",
       " '__init__',\n",
       " '__init_subclass__',\n",
       " '__le__',\n",
       " '__lt__',\n",
       " '__ne__',\n",
       " '__new__',\n",
       " '__reduce__',\n",
       " '__reduce_ex__',\n",
       " '__repr__',\n",
       " '__setattr__',\n",
       " '__sizeof__',\n",
       " '__str__',\n",
       " '__subclasshook__']"
      ]
     },
     "metadata": {},
     "execution_count": 5
    }
   ],
   "metadata": {}
  },
  {
   "cell_type": "code",
   "execution_count": 6,
   "source": [
    "class MyError:\n",
    "    pass\n",
    "\n",
    "raise MyError()"
   ],
   "outputs": [
    {
     "output_type": "error",
     "ename": "TypeError",
     "evalue": "exceptions must derive from BaseException",
     "traceback": [
      "\u001b[0;31m---------------------------------------------------------------------------\u001b[0m",
      "\u001b[0;31mTypeError\u001b[0m                                 Traceback (most recent call last)",
      "\u001b[0;32m<ipython-input-6-27957d5a1b1b>\u001b[0m in \u001b[0;36m<module>\u001b[0;34m\u001b[0m\n\u001b[1;32m      2\u001b[0m     \u001b[0;32mpass\u001b[0m\u001b[0;34m\u001b[0m\u001b[0;34m\u001b[0m\u001b[0m\n\u001b[1;32m      3\u001b[0m \u001b[0;34m\u001b[0m\u001b[0m\n\u001b[0;32m----> 4\u001b[0;31m \u001b[0;32mraise\u001b[0m \u001b[0mMyError\u001b[0m\u001b[0;34m(\u001b[0m\u001b[0;34m)\u001b[0m\u001b[0;34m\u001b[0m\u001b[0;34m\u001b[0m\u001b[0m\n\u001b[0m",
      "\u001b[0;31mTypeError\u001b[0m: exceptions must derive from BaseException"
     ]
    }
   ],
   "metadata": {}
  },
  {
   "cell_type": "code",
   "execution_count": null,
   "source": [
    "class MyError_(Exception):\n",
    "    pass\n",
    "\n",
    "raise MyError_()"
   ],
   "outputs": [],
   "metadata": {}
  },
  {
   "cell_type": "markdown",
   "source": [
    "### Creating Class Hierarchies"
   ],
   "metadata": {}
  },
  {
   "cell_type": "code",
   "execution_count": 7,
   "source": [
    "from typing import List\n",
    "from dataclasses import dataclass\n",
    "\n",
    "class PayrollSystem:\n",
    "    def calculate_payroll(self, employees: List[dataclass]) -> None:\n",
    "        \"\"\"Takes a collection of employees and prints their id: str, name: str and check amount: float\n",
    "        using the .calculate_payroll() method expoed on each employee object.\n",
    "\n",
    "        Args:\n",
    "            employees (List): collection of employees\n",
    "        \"\"\"\n",
    "        print(\"Calculating Payroll\")\n",
    "        print(\"===================\")\n",
    "        for employee in employees:\n",
    "            print(f\"Payroll for: {employee.id} - {employee.name}\")\n",
    "            print(f\"- Check amount: {employee.calculate_payroll()}\")\n",
    "            print(\"\")"
   ],
   "outputs": [],
   "metadata": {}
  },
  {
   "cell_type": "code",
   "execution_count": 8,
   "source": [
    "\n",
    "from dataclasses import dataclass\n",
    "from typing import Union\n",
    "\n",
    "@dataclass\n",
    "class Employee:\n",
    "    \"\"\"Base class for Employees. Common interface for every employee type.\n",
    "    Constructed with id: int, name: str\n",
    "    \"\"\"\n",
    "    id: int\n",
    "    name: str\n",
    "\n",
    "\n",
    "@dataclass\n",
    "class SalaryEmployee(Employee):\n",
    "    \"\"\"Salary Employee Inherits Employee base class and add weekly_salary data.\n",
    "    \"\"\"\n",
    "    weekly_salary: Union[float, int]\n",
    "\n",
    "    def calculate_payroll(self) -> Union[float, int]:\n",
    "        \"\"\"Calulate the payroll and returns pay.\n",
    "        \"\"\"\n",
    "        return self.weekly_salary\n",
    "\n",
    "\n",
    "@dataclass\n",
    "class HourlyEmployee(Employee):\n",
    "    \"\"\"Hourly Employee Inherits Employee base class and add hours_worked and hour_rate data.\n",
    "    \"\"\"\n",
    "    hours_worked: Union[float, int]\n",
    "    hour_rate: Union[float, int]\n",
    "\n",
    "    def calculate_payroll(self) -> Union[float, int]:\n",
    "        \"\"\"Calulate the payroll and returns pay.\n",
    "        \"\"\"\n",
    "        return self.hours_worked * self.hour_rate\n",
    "\n",
    "\n",
    "@dataclass\n",
    "class CommissionEmployee(SalaryEmployee):\n",
    "    \"\"\"Comission Employee Inherits SalaryEmployee base class and add commission data.\n",
    "    \"\"\"\n",
    "    commission: int\n",
    "\n",
    "    def calculate_payroll(self) -> Union[float, int]:\n",
    "        \"\"\"Calulate the payroll from SalaryEmployee class using super() and adds commisssion.\n",
    "        \"\"\"\n",
    "        fixed = super().calculate_payroll()\n",
    "        return fixed + self.commission\n",
    "\n"
   ],
   "outputs": [],
   "metadata": {}
  },
  {
   "cell_type": "code",
   "execution_count": 9,
   "source": [
    "salary_employee = SalaryEmployee(1, \"Sam May\", 1500)\n",
    "hourly_employee = HourlyEmployee(2, 'Jane Doe', 40, 15)\n",
    "commission_employee = CommissionEmployee(3, 'Kevin Bacon', 1000, 250)\n",
    "\n",
    "payroll_system = PayrollSystem()\n",
    "payroll_system.calculate_payroll([salary_employee, hourly_employee, commission_employee])\n"
   ],
   "outputs": [
    {
     "output_type": "stream",
     "name": "stdout",
     "text": [
      "Calculating Payroll\n",
      "===================\n",
      "Payroll for: 1 - Sam May\n",
      "- Check amount: 1500\n",
      "\n",
      "Payroll for: 2 - Jane Doe\n",
      "- Check amount: 600\n",
      "\n",
      "Payroll for: 3 - Kevin Bacon\n",
      "- Check amount: 1250\n",
      "\n"
     ]
    }
   ],
   "metadata": {}
  },
  {
   "cell_type": "code",
   "execution_count": 10,
   "source": [
    "error_employee = Employee(1, \"invalid\")\n",
    "payroll_system.calculate_payroll([error_employee])"
   ],
   "outputs": [
    {
     "output_type": "stream",
     "name": "stdout",
     "text": [
      "Calculating Payroll\n",
      "===================\n",
      "Payroll for: 1 - invalid\n"
     ]
    },
    {
     "output_type": "error",
     "ename": "AttributeError",
     "evalue": "'Employee' object has no attribute 'calculate_payroll'",
     "traceback": [
      "\u001b[0;31m---------------------------------------------------------------------------\u001b[0m",
      "\u001b[0;31mAttributeError\u001b[0m                            Traceback (most recent call last)",
      "\u001b[0;32m<ipython-input-10-fc222622b969>\u001b[0m in \u001b[0;36m<module>\u001b[0;34m\u001b[0m\n\u001b[1;32m      1\u001b[0m \u001b[0merror_employee\u001b[0m \u001b[0;34m=\u001b[0m \u001b[0mEmployee\u001b[0m\u001b[0;34m(\u001b[0m\u001b[0;36m1\u001b[0m\u001b[0;34m,\u001b[0m \u001b[0;34m\"invalid\"\u001b[0m\u001b[0;34m)\u001b[0m\u001b[0;34m\u001b[0m\u001b[0;34m\u001b[0m\u001b[0m\n\u001b[0;32m----> 2\u001b[0;31m \u001b[0mpayroll_system\u001b[0m\u001b[0;34m.\u001b[0m\u001b[0mcalculate_payroll\u001b[0m\u001b[0;34m(\u001b[0m\u001b[0;34m[\u001b[0m\u001b[0merror_employee\u001b[0m\u001b[0;34m]\u001b[0m\u001b[0;34m)\u001b[0m\u001b[0;34m\u001b[0m\u001b[0;34m\u001b[0m\u001b[0m\n\u001b[0m",
      "\u001b[0;32m<ipython-input-7-f171cdce04ce>\u001b[0m in \u001b[0;36mcalculate_payroll\u001b[0;34m(self, employees)\u001b[0m\n\u001b[1;32m     14\u001b[0m         \u001b[0;32mfor\u001b[0m \u001b[0memployee\u001b[0m \u001b[0;32min\u001b[0m \u001b[0memployees\u001b[0m\u001b[0;34m:\u001b[0m\u001b[0;34m\u001b[0m\u001b[0;34m\u001b[0m\u001b[0m\n\u001b[1;32m     15\u001b[0m             \u001b[0mprint\u001b[0m\u001b[0;34m(\u001b[0m\u001b[0;34mf\"Payroll for: {employee.id} - {employee.name}\"\u001b[0m\u001b[0;34m)\u001b[0m\u001b[0;34m\u001b[0m\u001b[0;34m\u001b[0m\u001b[0m\n\u001b[0;32m---> 16\u001b[0;31m             \u001b[0mprint\u001b[0m\u001b[0;34m(\u001b[0m\u001b[0;34mf\"- Check amount: {employee.calculate_payroll()}\"\u001b[0m\u001b[0;34m)\u001b[0m\u001b[0;34m\u001b[0m\u001b[0;34m\u001b[0m\u001b[0m\n\u001b[0m\u001b[1;32m     17\u001b[0m             \u001b[0mprint\u001b[0m\u001b[0;34m(\u001b[0m\u001b[0;34m\"\"\u001b[0m\u001b[0;34m)\u001b[0m\u001b[0;34m\u001b[0m\u001b[0;34m\u001b[0m\u001b[0m\n",
      "\u001b[0;31mAttributeError\u001b[0m: 'Employee' object has no attribute 'calculate_payroll'"
     ]
    }
   ],
   "metadata": {}
  },
  {
   "cell_type": "code",
   "execution_count": 11,
   "source": [
    "\n",
    "### Abstract base classes exists to be inherited but never instancited. \n",
    "from dataclasses import dataclass\n",
    "from abc import ABC, abstractmethod\n",
    "from typing import Union\n",
    "\n",
    "\n",
    "@dataclass\n",
    "class Employee_(ABC):\n",
    "    \"\"\"We making the Employee an abstract base class.  There are two side effects here;\n",
    "    * You telling users of the module that objects of type Employee can't be created.\n",
    "    * You telling other devs working on the hr module hat if they derive from Employee, the they must \n",
    "    override the .calculate_payroll abstract method.\"\"\"\n",
    "    id: int\n",
    "    name: str\n",
    "\n",
    "    @abstractmethod\n",
    "    def calculate_payroll(self):\n",
    "        pass\n",
    "\n",
    "\n",
    "@dataclass\n",
    "class SalaryEmployee(Employee_):\n",
    "    \"\"\"Salary Employee Inherits Employee base class and add weekly_salary data.\n",
    "    \"\"\"\n",
    "    weekly_salary: Union[float, int]\n",
    "\n",
    "    def calculate_payroll(self) -> Union[float, int]:\n",
    "        \"\"\"Calulate the payroll and returns pay.\n",
    "        \"\"\"\n",
    "        return self.weekly_salary\n",
    "\n",
    "\n",
    "@dataclass\n",
    "class HourlyEmployee(Employee_):\n",
    "    \"\"\"Hourly Employee Inherits Employee base class and add hours_worked and hour_rate data.\n",
    "    \"\"\"\n",
    "    hours_worked: Union[float, int]\n",
    "    hour_rate: Union[float, int]\n",
    "\n",
    "    def calculate_payroll(self) -> Union[float, int]:\n",
    "        \"\"\"Calulate the payroll and returns pay.\n",
    "        \"\"\"\n",
    "        return self.hours_worked * self.hour_rate\n",
    "\n",
    "\n",
    "@dataclass\n",
    "class CommissionEmployee(SalaryEmployee):\n",
    "    \"\"\"Comission Employee Inherits SalaryEmployee base class and add commission data.\n",
    "    \"\"\"\n",
    "    commission: int\n",
    "\n",
    "    def calculate_payroll(self) -> Union[float, int]:\n",
    "        \"\"\"Calulate the payroll from SalaryEmployee class using super() and adds commisssion.\n",
    "        \"\"\"\n",
    "        fixed = super().calculate_payroll()\n",
    "        return fixed + self.commission\n",
    "\n"
   ],
   "outputs": [],
   "metadata": {}
  },
  {
   "cell_type": "code",
   "execution_count": 12,
   "source": [
    "salary_employee = SalaryEmployee(1, \"Sam May\", 1500)\n",
    "hourly_employee = HourlyEmployee(2, 'Jane Doe', 40, 15)\n",
    "commission_employee = CommissionEmployee(3, 'Kevin Bacon', 1000, 250)\n",
    "\n",
    "payroll_system = PayrollSystem()\n",
    "payroll_system.calculate_payroll([salary_employee, hourly_employee, commission_employee])"
   ],
   "outputs": [
    {
     "output_type": "stream",
     "name": "stdout",
     "text": [
      "Calculating Payroll\n",
      "===================\n",
      "Payroll for: 1 - Sam May\n",
      "- Check amount: 1500\n",
      "\n",
      "Payroll for: 2 - Jane Doe\n",
      "- Check amount: 600\n",
      "\n",
      "Payroll for: 3 - Kevin Bacon\n",
      "- Check amount: 1250\n",
      "\n"
     ]
    }
   ],
   "metadata": {}
  },
  {
   "cell_type": "code",
   "execution_count": 13,
   "source": [
    "employee = Employee(1, \"abstract\")"
   ],
   "outputs": [],
   "metadata": {}
  },
  {
   "cell_type": "markdown",
   "source": [
    "### Implementation inheritance vs interface inheritance\n",
    "\n",
    "When you derive one class from another, the derived class inherits both:\n",
    "* The base class interface: The derived class inherits all the methods, properties and attributes of the base class.\n",
    "* The base class implmentation: The derived class inherits the code that implements the class interface."
   ],
   "metadata": {}
  },
  {
   "cell_type": "code",
   "execution_count": 14,
   "source": [
    "@dataclass\n",
    "class DisgruntledEmployee:\n",
    "    \"\"\"Does not derive from Employee calls but it exposes the same inteface required \n",
    "    by the PayrollSystem.\"\"\"\n",
    "    id: int\n",
    "    name: str\n",
    "\n",
    "    def calculate_payroll(self):\n",
    "        return 1_000_000"
   ],
   "outputs": [],
   "metadata": {}
  },
  {
   "cell_type": "code",
   "execution_count": 15,
   "source": [
    "disgruntled_employee = DisgruntledEmployee(20000, 'Anonymous')\n",
    "salary_employee = SalaryEmployee(1, \"Sam May\", 1500)\n",
    "hourly_employee = HourlyEmployee(2, 'Jane Doe', 40, 15)\n",
    "commission_employee = CommissionEmployee(3, 'Kevin Bacon', 1000, 250)\n",
    "\n",
    "payroll_system.calculate_payroll([salary_employee, hourly_employee, commission_employee, disgruntled_employee])"
   ],
   "outputs": [
    {
     "output_type": "stream",
     "name": "stdout",
     "text": [
      "Calculating Payroll\n",
      "===================\n",
      "Payroll for: 1 - Sam May\n",
      "- Check amount: 1500\n",
      "\n",
      "Payroll for: 2 - Jane Doe\n",
      "- Check amount: 600\n",
      "\n",
      "Payroll for: 3 - Kevin Bacon\n",
      "- Check amount: 1250\n",
      "\n",
      "Payroll for: 20000 - Anonymous\n",
      "- Check amount: 1000000\n",
      "\n"
     ]
    }
   ],
   "metadata": {}
  },
  {
   "cell_type": "markdown",
   "source": [
    "Rules for why use inheritance:\n",
    "\n",
    "* Use inheritance to reuse an implementation: Your derived classes should leverage most of their base class implementation.\n",
    "* Implemnt an interface to be reused: When you want your class to be reused by a specific part of your application, you implement the required interface in you class,  but you don’t need to provide a base class, or inherit from another class.\n"
   ],
   "metadata": {}
  },
  {
   "cell_type": "code",
   "execution_count": 16,
   "source": [
    "\n",
    "%%writefile employees.py\n",
    "### Abstract base classes exists to be inherited but never instancited. \n",
    "from dataclasses import dataclass\n",
    "from abc import ABC, abstractmethod\n",
    "from typing import Union\n",
    "\n",
    "\n",
    "@dataclass\n",
    "class Employee(ABC):\n",
    "    \"\"\"We making the Employee an abstract base class.  There are two side effects here;\n",
    "    * You telling users of the module that objects of type Employee can't be created.\n",
    "    * You telling other devs working on the hr module hat if they derive from Employee, the they must \n",
    "    override the .calculate_payroll abstract method.\"\"\"\n",
    "    id: int\n",
    "    name: str\n",
    "\n",
    "    @abstractmethod\n",
    "    def calculate_payroll(self):\n",
    "        pass\n",
    "\n",
    "\n",
    "@dataclass\n",
    "class SalaryEmployee(Employee):\n",
    "    \"\"\"Salary Employee Inherits Employee base class and add weekly_salary data.\n",
    "    \"\"\"\n",
    "    weekly_salary: Union[float, int]\n",
    "\n",
    "    def calculate_payroll(self) -> Union[float, int]:\n",
    "        \"\"\"Calulate the payroll and returns pay.\n",
    "        \"\"\"\n",
    "        return self.weekly_salary\n",
    "\n",
    "\n",
    "@dataclass\n",
    "class HourlyEmployee(Employee):\n",
    "    \"\"\"Hourly Employee Inherits Employee base class and add hours_worked and hour_rate data.\n",
    "    \"\"\"\n",
    "    hours_worked: Union[float, int]\n",
    "    hour_rate: Union[float, int]\n",
    "\n",
    "    def calculate_payroll(self) -> Union[float, int]:\n",
    "        \"\"\"Calulate the payroll and returns pay.\n",
    "        \"\"\"\n",
    "        return self.hours_worked * self.hour_rate\n",
    "\n",
    "\n",
    "@dataclass\n",
    "class CommissionEmployee(SalaryEmployee):\n",
    "    \"\"\"Comission Employee Inherits SalaryEmployee base class and add commission data.\n",
    "    \"\"\"\n",
    "    commission: int\n",
    "\n",
    "    def calculate_payroll(self) -> Union[float, int]:\n",
    "        \"\"\"Calulate the payroll from SalaryEmployee class using super() and adds commisssion.\n",
    "        \"\"\"\n",
    "        fixed = super().calculate_payroll()\n",
    "        return fixed + self.commission\n",
    "\n"
   ],
   "outputs": [
    {
     "output_type": "stream",
     "name": "stdout",
     "text": [
      "Overwriting employees.py\n"
     ]
    }
   ],
   "metadata": {}
  },
  {
   "cell_type": "code",
   "execution_count": 17,
   "source": [
    "%%writefile hr.py\n",
    "from typing import List\n",
    "from employees import Employee\n",
    "\n",
    "class PayrollSystem:\n",
    "    def calculate_payroll(self, employees: List[Employee]) -> None:\n",
    "        \"\"\"Takes a collection of employees and prints their id: str, name: str and check amount: float\n",
    "        using the .calculate_payroll() method expoed on each employee object.\n",
    "\n",
    "        Args:\n",
    "            employees (List): collection of employees\n",
    "        \"\"\"\n",
    "        print(\"Calculating Payroll\")\n",
    "        print(\"===================\")\n",
    "        for employee in employees:\n",
    "            print(f\"Payroll for: {employee.id} - {employee.name}\")\n",
    "            print(f\"- Check amount: {employee.calculate_payroll()}\")\n",
    "            print(\"\")"
   ],
   "outputs": [
    {
     "output_type": "stream",
     "name": "stdout",
     "text": [
      "Overwriting hr.py\n"
     ]
    }
   ],
   "metadata": {}
  },
  {
   "cell_type": "code",
   "execution_count": 18,
   "source": [
    "%%writefile program.py\n",
    "import employees\n",
    "import hr\n",
    "\n",
    "salary_employee = employees.SalaryEmployee(1, \"Sam May\", 1500)\n",
    "hourly_employee = employees.HourlyEmployee(2, 'Jane Doe', 40, 15)\n",
    "commission_employee = employees.CommissionEmployee(3, 'Kevin Bacon', 1000, 250)\n",
    "\n",
    "payroll_system = hr.PayrollSystem()\n",
    "payroll_system.calculate_payroll(employees=[salary_employee, hourly_employee, commission_employee])"
   ],
   "outputs": [
    {
     "output_type": "stream",
     "name": "stdout",
     "text": [
      "Overwriting program.py\n"
     ]
    }
   ],
   "metadata": {}
  },
  {
   "cell_type": "code",
   "execution_count": 19,
   "source": [
    "!python program.py"
   ],
   "outputs": [
    {
     "output_type": "stream",
     "name": "stdout",
     "text": [
      "Calculating Payroll\n",
      "===================\n",
      "Payroll for: 1 - Sam May\n",
      "- Check amount: 1500\n",
      "\n",
      "Payroll for: 2 - Jane Doe\n",
      "- Check amount: 600\n",
      "\n",
      "Payroll for: 3 - Kevin Bacon\n",
      "- Check amount: 1250\n",
      "\n"
     ]
    }
   ],
   "metadata": {}
  },
  {
   "cell_type": "code",
   "execution_count": 20,
   "source": [
    "%%writefile -a employees.py\n",
    "\n",
    "\n",
    "class Manager(SalaryEmployee):\n",
    "    def work(self, hours: Union[float, int]) -> str:\n",
    "        print(f\"{self.name} screams and yells for {hours} hours\")\n",
    "\n",
    "class Secretary(SalaryEmployee):\n",
    "    def work(self, hours: Union[float, int]) -> str:\n",
    "        print(f\"{self.name} expands {hours} hours doing office paperwork\")\n",
    "\n",
    "\n",
    "class SalesPerson(CommissionEmployee):\n",
    "    def work(self, hours: Union[float, int]) -> str:\n",
    "        print(f\"{self.name} expands {hours} hours on the phone\")\n",
    "\n",
    "\n",
    "class FactoryWorker(HourlyEmployee):\n",
    "    def work(self, hours: Union[float, int]) -> str:\n",
    "        print(f\"{self.name} manufactures gadgets for {hours} hours\")"
   ],
   "outputs": [
    {
     "output_type": "stream",
     "name": "stdout",
     "text": [
      "Appending to employees.py\n"
     ]
    }
   ],
   "metadata": {}
  },
  {
   "cell_type": "code",
   "execution_count": 21,
   "source": [
    "%%writefile productivity.py\n",
    "\n",
    "from employees import Employee\n",
    "from typing import Union, List\n",
    "\n",
    "class ProductivitySystem:\n",
    "    def track(self, employees: List[Employee], hours: Union[float, int]) -> None:\n",
    "        print(\"Tracking Employee Productivity\")\n",
    "        print(\"==============================\")\n",
    "        for employee in employees:\n",
    "            result = employee.work(hours)\n",
    "            print(f'{employee.name}: {result}')\n",
    "        print('')"
   ],
   "outputs": [
    {
     "output_type": "stream",
     "name": "stdout",
     "text": [
      "Overwriting productivity.py\n"
     ]
    }
   ],
   "metadata": {}
  },
  {
   "cell_type": "code",
   "execution_count": 22,
   "source": [
    "%%writefile program.py\n",
    "import employees\n",
    "import hr\n",
    "import productivity\n",
    "\n",
    "salary_employee = employees.SalaryEmployee(1, \"Sam May\", 1500)\n",
    "hourly_employee = employees.HourlyEmployee(2, 'Jane Doe', 40, 15)\n",
    "commission_employee = employees.CommissionEmployee(3, 'Kevin Bacon', 1000, 250)\n",
    "\n",
    "manager = employees.Manager(1, 'Mary Poppins', 3000)\n",
    "secretary = employees.Secretary(2, 'John Smith', 1500)\n",
    "sales_guy = employees.SalesPerson(3, 'Kevin Bacon', 1000, 250)\n",
    "factory_worker = employees.FactoryWorker(2, 'Jane Doe', 40, 15)\n",
    "\n",
    "employees_payroll=[salary_employee, hourly_employee, commission_employee]\n",
    "employees = [manager, secretary, sales_guy, factory_worker]\n",
    "\n",
    "productivity_system = productivity.ProductivitySystem()\n",
    "productivity_system.track(employees, 40)\n",
    "payroll_system = hr.PayrollSystem()\n",
    "payroll_system.calculate_payroll(employees=employees)"
   ],
   "outputs": [
    {
     "output_type": "stream",
     "name": "stdout",
     "text": [
      "Overwriting program.py\n"
     ]
    }
   ],
   "metadata": {}
  },
  {
   "cell_type": "code",
   "execution_count": 23,
   "source": [
    "! python program.py"
   ],
   "outputs": [
    {
     "output_type": "stream",
     "name": "stdout",
     "text": [
      "Tracking Employee Productivity\n",
      "==============================\n",
      "Mary Poppins screams and yells for 40 hours\n",
      "Mary Poppins: None\n",
      "John Smith expands 40 hours doing office paperwork\n",
      "John Smith: None\n",
      "Kevin Bacon expands 40 hours on the phone\n",
      "Kevin Bacon: None\n",
      "Jane Doe manufactures gadgets for 40 hours\n",
      "Jane Doe: None\n",
      "\n",
      "Calculating Payroll\n",
      "===================\n",
      "Payroll for: 1 - Mary Poppins\n",
      "- Check amount: 3000\n",
      "\n",
      "Payroll for: 2 - John Smith\n",
      "- Check amount: 1500\n",
      "\n",
      "Payroll for: 3 - Kevin Bacon\n",
      "- Check amount: 1250\n",
      "\n",
      "Payroll for: 2 - Jane Doe\n",
      "- Check amount: 600\n",
      "\n"
     ]
    }
   ],
   "metadata": {}
  },
  {
   "cell_type": "code",
   "execution_count": 24,
   "source": [
    "%%writefile -a employees.py\n",
    "\n",
    "@dataclass\n",
    "class TemporarySecretary(HourlyEmployee, Secretary):\n",
    "    weekly_salary: Union[float, int]\n",
    "    \n",
    "\n",
    "    def __post_init__(self):\n",
    "        HourlyEmployee.__init__(self, self.id, self.name, self.hours_worked, self.hour_rate)\n"
   ],
   "outputs": [
    {
     "output_type": "stream",
     "name": "stdout",
     "text": [
      "Appending to employees.py\n"
     ]
    }
   ],
   "metadata": {}
  },
  {
   "cell_type": "code",
   "execution_count": 25,
   "source": [
    "import hr\n",
    "import employees\n",
    "import productivity\n",
    "\n",
    "manager = employees.Manager(id=1, name='Mary Poppins', weekly_salary=3000)\n",
    "secretary = employees.Secretary(id=2, name='John Smith', weekly_salary=1500)\n",
    "sales_guy = employees.SalesPerson(id=3, name='Kevin Bacon', weekly_salary=1000, commission=250)\n",
    "factory_worker = employees.FactoryWorker(id=4, name='Jane Doe', hours_worked=40, hour_rate=15)\n",
    "temporary_secretary = employees.TemporarySecretary(id=5, name='Robin Williams', hours_worked=40,\n",
    "                                                   hour_rate=9, weekly_salary=9)\n",
    "\n",
    "company_employees = [manager, secretary, sales_guy,factory_worker, temporary_secretary,]\n",
    "\n",
    "productivity_system = productivity.ProductivitySystem()\n",
    "productivity_system.track(company_employees, 40)\n",
    "payroll_system = hr.PayrollSystem()\n",
    "payroll_system.calculate_payroll(company_employees)\n"
   ],
   "outputs": [
    {
     "output_type": "stream",
     "name": "stdout",
     "text": [
      "Tracking Employee Productivity\n",
      "==============================\n",
      "Mary Poppins screams and yells for 40 hours\n",
      "Mary Poppins: None\n",
      "John Smith expands 40 hours doing office paperwork\n",
      "John Smith: None\n",
      "Kevin Bacon expands 40 hours on the phone\n",
      "Kevin Bacon: None\n",
      "Jane Doe manufactures gadgets for 40 hours\n",
      "Jane Doe: None\n",
      "Robin Williams expands 40 hours doing office paperwork\n",
      "Robin Williams: None\n",
      "\n",
      "Calculating Payroll\n",
      "===================\n",
      "Payroll for: 1 - Mary Poppins\n",
      "- Check amount: 3000\n",
      "\n",
      "Payroll for: 2 - John Smith\n",
      "- Check amount: 1500\n",
      "\n",
      "Payroll for: 3 - Kevin Bacon\n",
      "- Check amount: 1250\n",
      "\n",
      "Payroll for: 4 - Jane Doe\n",
      "- Check amount: 600\n",
      "\n",
      "Payroll for: 5 - Robin Williams\n",
      "- Check amount: 360\n",
      "\n"
     ]
    }
   ],
   "metadata": {}
  },
  {
   "cell_type": "code",
   "execution_count": 26,
   "source": [
    "%%writefile -a productivity.py\n",
    "\n",
    "class ManagerRole:\n",
    "    def work(self, hours: Union[float, int]) -> str:\n",
    "        return f\"screams and yells for {hours} hours.\"\n",
    "\n",
    "\n",
    "class SecretaryRole:\n",
    "    def work(self, hours: Union[float, int]) -> str:\n",
    "        return f\"expands {hours} hours doing office paperwork.\"\n",
    "\n",
    "\n",
    "class SalesRole:\n",
    "    def work(self, hours: Union[float, int]) -> str:\n",
    "        return f\"expands {hours} hours on phone.\"\n",
    "\n",
    "\n",
    "class FactoryRole:\n",
    "    def work(self, hours: Union[float, int]) -> str:\n",
    "        return f\"manufactures gadgets for {hours} hours.\""
   ],
   "outputs": [
    {
     "output_type": "stream",
     "name": "stdout",
     "text": [
      "Appending to productivity.py\n"
     ]
    }
   ],
   "metadata": {}
  },
  {
   "cell_type": "code",
   "execution_count": 27,
   "source": [
    "%%writefile -a hr.py\n",
    "\n",
    "\n",
    "from dataclasses import dataclass\n",
    "from typing import Union\n",
    "\n",
    "@dataclass\n",
    "class SalaryPolicy:\n",
    "    weekly_salary: Union[float, int]\n",
    "\n",
    "    def calculate_payroll(self) -> Union[float, int]:\n",
    "        return self.weekly_salary\n",
    "\n",
    "\n",
    "@dataclass\n",
    "class HourlyPolicy:\n",
    "    hours_worked: Union[float, int]\n",
    "    hour_rate: Union[float, int]\n",
    "\n",
    "    def calculate_payroll(self) -> Union[float, int]:\n",
    "        return self.hours_worked * self.hour_rate\n",
    "\n",
    "\n",
    "@dataclass\n",
    "class CommissionPolicy(SalaryPolicy):\n",
    "    commission: int\n",
    "\n",
    "    def calculate_payroll(self) -> Union[float, int]:\n",
    "        fixed = super().calculate_payroll()\n",
    "        return fixed + self.commission"
   ],
   "outputs": [
    {
     "output_type": "stream",
     "name": "stdout",
     "text": [
      "Appending to hr.py\n"
     ]
    }
   ],
   "metadata": {}
  },
  {
   "cell_type": "code",
   "execution_count": null,
   "source": [],
   "outputs": [],
   "metadata": {}
  },
  {
   "cell_type": "code",
   "execution_count": 34,
   "source": [
    "%%writefile employees_.py\n",
    "\n",
    "### Abstract base classes exists to be inherited but never instancited. \n",
    "from dataclasses import dataclass\n",
    "from typing import Union\n",
    "\n",
    "from hr import (SalaryPolicy, CommissionPolicy, HourlyPolicy)\n",
    "from productivity import (ManagerRole, SecretaryRole, SalesRole, FactoryRole)\n",
    "\n",
    "\n",
    "@dataclass\n",
    "class Employee:\n",
    "    \"\"\"We making the Employee an abstract base class.  There are two side effects here;\n",
    "    * You telling users of the module that objects of type Employee can't be created.\n",
    "    * You telling other devs working on the hr module hat if they derive from Employee, the they must \n",
    "    override the .calculate_payroll abstract method.\"\"\"\n",
    "    id: int\n",
    "    name: str\n",
    "\n",
    "\n",
    "\n",
    "@dataclass\n",
    "class Manager(Employee, ManagerRole, SalaryPolicy):\n",
    "    \n",
    "    def __post_init__(self):\n",
    "        SalaryPolicy.__init__(self, self.weekly_salary)\n",
    "        super().__init__(self.id, self.name)\n",
    "\n",
    "\n",
    "@dataclass\n",
    "class Secretary(Employee, SecretaryRole, SalaryPolicy):\n",
    "    \n",
    "    def __post_init__(self):\n",
    "        SalaryPolicy.__init__(self, self.weekly_salary)\n",
    "        super().__init__(self.id, self.name)\n",
    "\n",
    "\n",
    "@dataclass\n",
    "class SalesPerson(Employee, SalesRole, CommissionPolicy):\n",
    "\n",
    "    def __post_init__(self):\n",
    "        CommissionPolicy.__init__(self, self.weekly_salary, self.commission)\n",
    "        super().__init__(self.id, self.name)\n",
    "\n",
    "\n",
    "@dataclass\n",
    "class FactoryWorker(Employee, FactoryRole, HourlyPolicy):\n",
    "\n",
    "    def __post_init__(self):\n",
    "        HourlyPolicy.__init__(self, self.hours_worked, self.hour_rate)\n",
    "        super().__init__(self.id, self.name)\n",
    "\n",
    "\n",
    "@dataclass\n",
    "class TemporarySecretary(Employee, SecretaryRole, HourlyPolicy):\n",
    "\n",
    "    def __post_init__(self):\n",
    "        HourlyPolicy.__init__(self, self.hours_worked, self.hour_rate)\n",
    "        super().__init__(self.id, self.name)\n"
   ],
   "outputs": [
    {
     "output_type": "stream",
     "name": "stdout",
     "text": [
      "Overwriting employees_.py\n"
     ]
    }
   ],
   "metadata": {}
  },
  {
   "cell_type": "code",
   "execution_count": 29,
   "source": [
    "%%writefile program_.py\n",
    "\n",
    "import employees_ as employees\n",
    "import hr\n",
    "import productivity\n",
    "\n",
    "\n",
    "manager = employees.Manager(id=1, name='Mary Poppins', weekly_salary=3000)\n",
    "secretary = employees.Secretary(id=2, name='John Smith', weekly_salary=1500)\n",
    "sales_guy = employees.SalesPerson(id=3, name='Kevin Bacon', weekly_salary=1000, commission=250)\n",
    "factory_worker = employees.FactoryWorker(id=2, name='Jane Doe', hours_worked=40, hour_rate=15)\n",
    "temporary_secretary = employees.TemporarySecretary(id=5, name='Robin Williams', hours_worked=40,\n",
    "                                                   hour_rate=9)\n",
    "\n",
    "employees_list = [manager, secretary, sales_guy, factory_worker, temporary_secretary]\n",
    "\n",
    "productivity_system = productivity.ProductivitySystem()\n",
    "productivity_system.track(employees_list, 40)\n",
    "payroll_system = hr.PayrollSystem()\n",
    "payroll_system.calculate_payroll(employees=employees_list)"
   ],
   "outputs": [
    {
     "output_type": "stream",
     "name": "stdout",
     "text": [
      "Overwriting program_.py\n"
     ]
    }
   ],
   "metadata": {}
  },
  {
   "cell_type": "code",
   "execution_count": 30,
   "source": [
    "! python program_.py"
   ],
   "outputs": [
    {
     "output_type": "stream",
     "name": "stdout",
     "text": [
      "Tracking Employee Productivity\n",
      "==============================\n",
      "Mary Poppins: screams and yells for 40 hours.\n",
      "John Smith: expands 40 hours doing office paperwork.\n",
      "Kevin Bacon: expands 40 hours on phone.\n",
      "Jane Doe: manufactures gadgets for 40 hours.\n",
      "Robin Williams: expands 40 hours doing office paperwork.\n",
      "\n",
      "Calculating Payroll\n",
      "===================\n",
      "Payroll for: 1 - Mary Poppins\n",
      "- Check amount: 3000\n",
      "\n",
      "Payroll for: 2 - John Smith\n",
      "- Check amount: 1500\n",
      "\n",
      "Payroll for: 3 - Kevin Bacon\n",
      "- Check amount: 1250\n",
      "\n",
      "Payroll for: 2 - Jane Doe\n",
      "- Check amount: 600\n",
      "\n",
      "Payroll for: 5 - Robin Williams\n",
      "- Check amount: 360\n",
      "\n"
     ]
    }
   ],
   "metadata": {}
  },
  {
   "cell_type": "code",
   "execution_count": 35,
   "source": [
    "%%writefile contacts.py\n",
    "\n",
    "from dataclasses import dataclass, field\n",
    "from typing import Optional, Union, Dict\n",
    "\n",
    "@dataclass\n",
    "class Address:\n",
    "    street: str\n",
    "    city: str\n",
    "    state: str\n",
    "    zipcode: str\n",
    "    street2: Optional[str] = ''\n",
    "    \n",
    "\n",
    "    def __str__(self) -> str:\n",
    "        \"\"\"Provices pretty response of address.\"\"\"\n",
    "        lines = [self.street]\n",
    "        if self.street2:\n",
    "            lines.append(self.street2)\n",
    "        lines.append(f\"{self.city}, {self.state} {self.zipcode}\")\n",
    "        return \"\\n\".join(lines)\n",
    "\n",
    "\n",
    "@dataclass\n",
    "class AddressBook:\n",
    "    _employee_addresses: Dict[int, Address]= field(default=Dict)\n",
    "    \n",
    "    def __post_init__(self):\n",
    "        self._employee_addresses = {\n",
    "            1: Address('121 Admin Rd.', 'Concord', 'NH', '03301'),\n",
    "            2: Address('67 Paperwork Ave', 'Manchester', 'NH', '03101'),\n",
    "            3: Address('15 Rose St', 'Concord', 'NH', '03301', 'Apt. B-1'),\n",
    "            4: Address('39 Sole St.', 'Concord', 'NH', '03301'),\n",
    "            5: Address('99 Mountain Rd.', 'Concord', 'NH', '03301'),\n",
    "            }\n",
    "\n",
    "    def get_employee_address(self, employee_id: str) -> str:\n",
    "        address = self._employee_addresses.get(employee_id)\n",
    "        if not address:\n",
    "            raise ValueError(employee_id)\n",
    "        return address"
   ],
   "outputs": [
    {
     "output_type": "stream",
     "name": "stdout",
     "text": [
      "Overwriting contacts.py\n"
     ]
    }
   ],
   "metadata": {}
  },
  {
   "cell_type": "code",
   "execution_count": null,
   "source": [],
   "outputs": [],
   "metadata": {}
  },
  {
   "cell_type": "markdown",
   "source": [
    "### Composition \n",
    "\n",
    "Composition is an object oriented design concept that models a has a relationship. In composition, a class known as composite contains an object of another class known to as component. In other words, a composite class has a component of another class.\n",
    "\n",
    "Composition allows composite classes to reuse the implementation of the components it contains. The composite class doesn’t inherit the component class interface, but it can leverage its implementation.\n",
    "\n",
    "Composition is usually flexible compared to inheritance."
   ],
   "metadata": {}
  },
  {
   "cell_type": "code",
   "execution_count": 36,
   "source": [
    "%%writefile contacts.py\n",
    "\n",
    "from dataclasses import dataclass\n",
    "from typing import Optional\n",
    "\n",
    "@dataclass\n",
    "class Address:\n",
    "    street: str\n",
    "    city: str\n",
    "    state: str\n",
    "    zipcode: str\n",
    "    street2: Optional[str] = ''\n",
    "    \n",
    "\n",
    "    def __str__(self) -> str:\n",
    "        \"\"\"Provices pretty response of address.\"\"\"\n",
    "        lines = [self.street]\n",
    "        if self.street2:\n",
    "            lines.append(self.street2)\n",
    "        lines.append(f\"{self.city}, {self.state} {self.zipcode}\")\n",
    "        return \"\\n\".join(lines)"
   ],
   "outputs": [
    {
     "output_type": "stream",
     "name": "stdout",
     "text": [
      "Overwriting contacts.py\n"
     ]
    }
   ],
   "metadata": {}
  },
  {
   "cell_type": "code",
   "execution_count": 37,
   "source": [
    "from contacts import Address\n",
    "\n",
    "address = Address(street=\"55 main st.\", city=\"concord\", state=\"NH\", zipcode=\"03301\")\n",
    "print(address)\n",
    "\n",
    "address = Address(street=\"55 main st.\", city=\"concord\", state=\"NH\", zipcode=\"03301\", street2=\"denso\")\n",
    "print(address)"
   ],
   "outputs": [
    {
     "output_type": "stream",
     "name": "stdout",
     "text": [
      "55 main st.\n",
      "concord, NH 03301\n",
      "55 main st.\n",
      "denso\n",
      "concord, NH 03301\n"
     ]
    }
   ],
   "metadata": {}
  },
  {
   "cell_type": "code",
   "execution_count": null,
   "source": [
    "%%writefile employees_.py\n",
    "\n",
    "\n",
    "### Abstract base classes exists to be inherited but never instancited. \n",
    "from dataclasses import dataclass\n",
    "from typing import Union\n",
    "from contacts import Address\n",
    "\n",
    "from hr_ import (SalaryPolicy, CommissionPolicy, HourlyPolicy)\n",
    "from productivity import (ManagerRole, SecretaryRole, SalesRole, FactoryRole)\n",
    "\n",
    "\n",
    "@dataclass\n",
    "class Employee():\n",
    "    \"\"\"We making the Employee an abstract base class.  There are two side effects here;\n",
    "    * You telling users of the module that objects of type Employee can't be created.\n",
    "    * You telling other devs working on the hr module hat if they derive from Employee, the they must \n",
    "    override the .calculate_payroll abstract method.\"\"\"\n",
    "    id: int\n",
    "    name: str\n",
    "    address: Address = None\n",
    "\n",
    "\n",
    "\n",
    "@dataclass\n",
    "class Manager(Employee, ManagerRole, SalaryPolicy):\n",
    "\n",
    "    def __post_init__(self):\n",
    "        SalaryPolicy.__init__(self, self.weekly_salary)\n",
    "        super().__init__(self.id, self.name)\n",
    "\n",
    "\n",
    "@dataclass\n",
    "class Secretary(Employee, SecretaryRole, SalaryPolicy):\n",
    "    \n",
    "    def __post_init__(self):\n",
    "        SalaryPolicy.__init__(self, self.weekly_salary)\n",
    "        super().__init__(self.id, self.name)\n",
    "\n",
    "\n",
    "@dataclass\n",
    "class SalesPerson(Employee, SalesRole, CommissionPolicy):\n",
    "\n",
    "    def __post_init__(self):\n",
    "        CommissionPolicy.__init__(self, self.weekly_salary, self.commission)\n",
    "        super().__init__(self.id, self.name)\n",
    "\n",
    "\n",
    "@dataclass\n",
    "class FactoryWorker(Employee, FactoryRole, HourlyPolicy):\n",
    "\n",
    "    def __post_init__(self):\n",
    "        HourlyPolicy.__init__(self, self.hours_worked, self.hour_rate)\n",
    "        super().__init__(self.id, self.name)\n",
    "\n",
    "\n",
    "@dataclass\n",
    "class TemporarySecretary(Employee, SecretaryRole, HourlyPolicy):\n",
    "\n",
    "    def __post_init__(self):\n",
    "        HourlyPolicy.__init__(self, self.hours_worked, self.hour_rate)\n",
    "        super().__init__(self.id, self.name)\n"
   ],
   "outputs": [],
   "metadata": {}
  },
  {
   "cell_type": "code",
   "execution_count": null,
   "source": [
    "\n",
    "%%writefile hr_.py\n",
    "from typing import List\n",
    "from typing import Union\n",
    "from dataclasses import dataclass\n",
    "\n",
    "\n",
    "class PayrollSystem:\n",
    "    def calculate_payroll(self, employees: List[dataclass]) -> None:\n",
    "        \"\"\"Takes a collection of employees and prints their id: str, name: str and check amount: float\n",
    "        using the .calculate_payroll() method expoed on each employee object.\n",
    "\n",
    "        Args:\n",
    "            employees (List): collection of employees\n",
    "        \"\"\"\n",
    "        print(\"Calculating Payroll\")\n",
    "        print(\"===================\")\n",
    "        for employee in employees:\n",
    "            print(f\"Payroll for: {employee.id} - {employee.name}\")\n",
    "            print(f\"- Check amount: {employee.calculate_payroll()}\")\n",
    "            if employee.address:\n",
    "                print(\"- Sent to:\")\n",
    "                print(employee.address)\n",
    "            print(\"\")\n",
    "\n",
    "@dataclass\n",
    "class SalaryPolicy:\n",
    "    weekly_salary: Union[float, int]\n",
    "\n",
    "    def calculate_payroll(self) -> Union[float, int]:\n",
    "        return self.weekly_salary\n",
    "\n",
    "\n",
    "@dataclass\n",
    "class HourlyPolicy:\n",
    "    hours_worked: Union[float, int]\n",
    "    hour_rate: Union[float, int]\n",
    "\n",
    "    def calculate_payroll(self) -> Union[float, int]:\n",
    "        return self.hours_worked * self.hour_rate\n",
    "\n",
    "\n",
    "@dataclass\n",
    "class CommissionPolicy(SalaryPolicy):\n",
    "    commission: int\n",
    "\n",
    "    def calculate_payroll(self) -> Union[float, int]:\n",
    "        fixed = super().calculate_payroll()\n",
    "        return fixed + self.commission\n"
   ],
   "outputs": [],
   "metadata": {}
  },
  {
   "cell_type": "code",
   "execution_count": null,
   "source": [
    "\n",
    "%%writefile program_.py\n",
    "\n",
    "import hr_ as hr\n",
    "import employees_ as employees\n",
    "import contacts\n",
    "import productivity\n",
    "\n",
    "manager = employees.Manager(id=1, name='Mary Poppins', weekly_salary=3000)\n",
    "manager.address = contacts.Address(\"121 Admin Rd\", \"Concord\", \"NH\", \"03301\")\n",
    "\n",
    "secretary = employees.Secretary(id=2, name='John Smith', weekly_salary=1500)\n",
    "secretary.address = contacts.Address('67 Paperwork Ave.', 'Manchester',  'NH', '03101')\n",
    "\n",
    "sales_guy = employees.SalesPerson(id=3, name='Kevin Bacon', weekly_salary=1000, commission=250)\n",
    "factory_worker = employees.FactoryWorker(id=2, name='Jane Doe', hours_worked=40, hour_rate=15)\n",
    "temporary_secretary = employees.TemporarySecretary(id=5, name='Robin Williams', hours_worked=40,\n",
    "                                                   hour_rate=9)\n",
    "\n",
    "\n",
    "employees = [manager, secretary, sales_guy, factory_worker, temporary_secretary,]\n",
    "\n",
    "productivity_system = productivity.ProductivitySystem()\n",
    "productivity_system.track(employees, 40)\n",
    "payroll_system = hr.PayrollSystem()\n",
    "payroll_system.calculate_payroll(employees)"
   ],
   "outputs": [],
   "metadata": {}
  },
  {
   "cell_type": "code",
   "execution_count": null,
   "source": [
    "!python program_.py"
   ],
   "outputs": [],
   "metadata": {}
  },
  {
   "cell_type": "code",
   "execution_count": null,
   "source": [
    "%%writefile productivity_.py\n",
    "\n",
    "from employees import Employee\n",
    "from typing import Union, List, Dict\n",
    "from dataclasses import dataclass, field\n",
    "\n",
    "\n",
    "class ManagerRole:\n",
    "    def perform_duties(self, hours: Union[float, int]) -> str:\n",
    "        return f\"screams and yells for {hours} hours.\"\n",
    "\n",
    "\n",
    "class SecretaryRole:\n",
    "    def perform_duties(self, hours: Union[float, int]) -> str:\n",
    "        return f\"does paper work for {hours} hours\"\n",
    "\n",
    "\n",
    "class SalesRole:\n",
    "    def perform_duties(self, hours: Union[float, int]) -> str:\n",
    "        return f\"expands {hours} hours on phone.\"\n",
    "\n",
    "\n",
    "class FactoryRole:\n",
    "    def perform_duties(self, hours: Union[float, int]) -> str:\n",
    "        return f\"manufactures gadgets for {hours} hours.\"\n",
    "\n",
    "@dataclass\n",
    "class ProductivitySystem:\n",
    "    _roles: Dict[str, Union[ManagerRole, SecretaryRole, SalesRole, FactoryRole]] = field(default=Dict)\n",
    "    \n",
    "    def __post_init__(self):\n",
    "        self._roles = {\n",
    "            'manager': ManagerRole,\n",
    "            'secretary': SecretaryRole,\n",
    "            'sales': SalesRole,\n",
    "            'factory': FactoryRole,\n",
    "        }\n",
    "\n",
    "    def get_role(self, role_id: str) -> str:\n",
    "        role_type = self._roles.get(role_id)\n",
    "        if not role_type:\n",
    "            raise ValueError('role_id')\n",
    "        return role_type()\n",
    "\n",
    "    def track(self, employees: List[Employee], hours: Union[float, int]) -> None:\n",
    "        print(\"Tracking Employee Productivity\")\n",
    "        print(\"==============================\")\n",
    "        for employee in employees:\n",
    "            employee.work(hours)\n",
    "        print('')\n"
   ],
   "outputs": [],
   "metadata": {}
  },
  {
   "cell_type": "code",
   "execution_count": null,
   "source": [
    "%%writefile hr_.py\n",
    "\n",
    "from typing import Union, Dict, List\n",
    "from dataclasses import dataclass, field\n",
    "\n",
    "\n",
    "@dataclass\n",
    "class PayrollPolicy:\n",
    "    hours_worked: int = 0\n",
    "    \n",
    "    def track_work(self, hours: Union[float, int]):\n",
    "        self.hours_worked += hours\n",
    "\n",
    "\n",
    "@dataclass\n",
    "class SalaryPolicy(PayrollPolicy):\n",
    "    weekly_salary: Union[float, int] =  field(default=False, init=True)\n",
    "\n",
    "    def calculate_payroll(self) -> Union[float, int]:\n",
    "        return self.weekly_salary\n",
    "\n",
    "\n",
    "@dataclass\n",
    "class HourlyPolicy(PayrollPolicy):\n",
    "    hour_rate: Union[float, int] =  field(default=False, init=True)\n",
    "\n",
    "    def calculate_payroll(self) -> Union[float, int]:\n",
    "        return self.hours_worked * self.hour_rate\n",
    "\n",
    "\n",
    "@dataclass\n",
    "class CommissionPolicy(SalaryPolicy):\n",
    "    commission_per_sale: Union[float, int] =  field(default=False, init=True)\n",
    "\n",
    "    @property\n",
    "    def commission(self):\n",
    "        sales = self.hours_worked / 5\n",
    "        return sales * self.commission_per_sale\n",
    "\n",
    "    def calculate_payroll(self) -> Union[float, int]:\n",
    "        fixed = super().calculate_payroll()\n",
    "        return fixed + self.commission\n",
    "\n",
    "@dataclass\n",
    "class PayrollSystem:\n",
    "    _employee_policies: Dict[int, Union[SalaryPolicy, CommissionPolicy, HourlyPolicy]]  = field(default=Dict)\n",
    "    \n",
    "    def __post_init__(self):\n",
    "        self._employee_policies = {\n",
    "            1: SalaryPolicy(weekly_salary=3000),\n",
    "            2: SalaryPolicy(weekly_salary=1500),\n",
    "            3: CommissionPolicy(weekly_salary=1000, commission_per_sale=100),\n",
    "            4: HourlyPolicy(hour_rate=15),\n",
    "            5: HourlyPolicy(hour_rate=9),\n",
    "        }\n",
    "\n",
    "    def get_policy(self, employee_id:int) -> Union[float, int]:\n",
    "        policy = self._employee_policies.get(employee_id)\n",
    "        if not policy:\n",
    "            return ValueError(employee_id)\n",
    "        return policy\n",
    "\n",
    "    def calculate_payroll(self, employees: List[dataclass]) -> None:\n",
    "        \"\"\"Takes a collection of employees and prints their id: str, name: str and check amount: float\n",
    "        using the .calculate_payroll() method expoed on each employee object.\n",
    "\n",
    "        Args:\n",
    "            employees (List): collection of employees\n",
    "        \"\"\"\n",
    "        print(\"Calculating Payroll\")\n",
    "        print(\"===================\")\n",
    "        for employee in employees:\n",
    "            print(f\"Payroll for: {employee.id} - {employee.name}\")\n",
    "            print(f\"- Check amount: {employee.calculate_payroll()}\")\n",
    "            if employee.address:\n",
    "                print(\"- Sent to:\")\n",
    "                print(employee.address)\n",
    "            print(\"\")\n",
    "\n"
   ],
   "outputs": [],
   "metadata": {}
  },
  {
   "cell_type": "code",
   "execution_count": null,
   "source": [
    "%%writefile contacts.py\n",
    "\n",
    "from dataclasses import dataclass, field\n",
    "from typing import Optional, Union, Dict\n",
    "\n",
    "@dataclass\n",
    "class Address:\n",
    "    street: str\n",
    "    city: str\n",
    "    state: str\n",
    "    zipcode: str\n",
    "    street2: Optional[str] = ''\n",
    "    \n",
    "\n",
    "    def __str__(self) -> str:\n",
    "        \"\"\"Provices pretty response of address.\"\"\"\n",
    "        lines = [self.street]\n",
    "        if self.street2:\n",
    "            lines.append(self.street2)\n",
    "        lines.append(f\"{self.city}, {self.state} {self.zipcode}\")\n",
    "        return \"\\n\".join(lines)\n",
    "\n",
    "\n",
    "@dataclass\n",
    "class AddressBook:\n",
    "    _employee_addresses: Dict[int, Address]= field(default=Dict)\n",
    "    \n",
    "    def __post_init__(self):\n",
    "        self._employee_addresses = {\n",
    "            1: Address('121 Admin Rd.', 'Concord', 'NH', '03301'),\n",
    "            2: Address('67 Paperwork Ave', 'Manchester', 'NH', '03101'),\n",
    "            3: Address('15 Rose St', 'Concord', 'NH', '03301', 'Apt. B-1'),\n",
    "            4: Address('39 Sole St.', 'Concord', 'NH', '03301'),\n",
    "            5: Address('99 Mountain Rd.', 'Concord', 'NH', '03301'),\n",
    "            }\n",
    "\n",
    "    def get_employee_address(self, employee_id: str) -> str:\n",
    "        address = self._employee_addresses.get(employee_id)\n",
    "        if not address:\n",
    "            raise ValueError(employee_id)\n",
    "        return address"
   ],
   "outputs": [],
   "metadata": {}
  },
  {
   "cell_type": "code",
   "execution_count": null,
   "source": [
    "%%writefile employees_.py\n",
    "\n",
    "from dataclasses import dataclass, field\n",
    "from typing import Union, List, Dict\n",
    "from contacts import Address\n",
    "\n",
    "from hr_ import (SalaryPolicy, CommissionPolicy, HourlyPolicy)\n",
    "from productivity_ import (ManagerRole, SecretaryRole, SalesRole, FactoryRole)\n",
    "\n",
    "from productivity_ import ProductivitySystem\n",
    "from hr_ import PayrollSystem\n",
    "from contacts import AddressBook\n",
    "\n",
    "\n",
    "@dataclass\n",
    "class Employee:\n",
    "    \"\"\"We making the Employee an abstract base class.  There are two side effects here;\n",
    "    * You telling users of the module that objects of type Employee can't be created.\n",
    "    * You telling other devs working on the hr module hat if they derive from Employee, the they must \n",
    "    override the .calculate_payroll abstract method.\"\"\"\n",
    "    id: int\n",
    "    name: str\n",
    "    role: str = field(default=False, init=True)\n",
    "    payroll: str = field(default=False, init=True)\n",
    "    address: Address = None\n",
    "\n",
    "    def work(self, hours: Union[float, int]):\n",
    "        duties = self.role.perform_duties(hours)\n",
    "        print(f'Employee {self.id} - {self.name}:')\n",
    "        print(f'- {duties}')\n",
    "        print('')\n",
    "        self.payroll.track_work(hours)\n",
    "\n",
    "    def calculate_payroll(self):\n",
    "        return self.payroll.calculate_payroll()\n",
    "        \n",
    "\n",
    "\n",
    "\n",
    "@dataclass\n",
    "class Manager(Employee, ManagerRole, SalaryPolicy):\n",
    "    id: int = field(default=False, init=False)\n",
    "    name: str = field(default=False, init=False)\n",
    "    weekly_salary: Union[float, int] =field(default=False, init=False)\n",
    "\n",
    "    def __post_init__(self):\n",
    "        SalaryPolicy.__init__(self, self.weekly_salary)\n",
    "        super().__init__(self.id, self.name)\n",
    "\n",
    "\n",
    "@dataclass\n",
    "class Secretary(Employee, SecretaryRole, SalaryPolicy):\n",
    "    id: int = field(default=False, init=False)\n",
    "    name: str = field(default=False, init=False)\n",
    "    weekly_salary: Union[float, int] = field(default=False, init=False)\n",
    "    \n",
    "    def __post_init__(self):\n",
    "        SalaryPolicy.__init__(self, self.weekly_salary)\n",
    "        super().__init__(self.id, self.name)\n",
    "\n",
    "\n",
    "@dataclass\n",
    "class SalesPerson(Employee, SalesRole, CommissionPolicy):\n",
    "    id: int = field(default=False, init=False)\n",
    "    name: str = field(default=False, init=False)\n",
    "    weekly_salary: Union[float, int] = field(default=False, init=False)\n",
    "    commission: int = field(default=False, init=False)\n",
    "\n",
    "    def __post_init__(self):\n",
    "        CommissionPolicy.__init__(self, self.weekly_salary, self.commission)\n",
    "        super().__init__(self.id, self.name)\n",
    "\n",
    "\n",
    "@dataclass\n",
    "class FactoryWorker(Employee, FactoryRole, HourlyPolicy):\n",
    "    id: int = field(default=False, init=False)\n",
    "    name: str = field(default=False, init=False)\n",
    "    hours_worked: Union[float, int] = field(default=False, init=False)\n",
    "    hour_rate: Union[float, int] = field(default=False, init=False)\n",
    "\n",
    "    def __post_init__(self):\n",
    "        HourlyPolicy.__init__(self, self.hours_worked, self.hour_rate)\n",
    "        super().__init__(self.id, self.name)\n",
    "\n",
    "\n",
    "@dataclass\n",
    "class TemporarySecretary(Employee, SecretaryRole, HourlyPolicy):\n",
    "    id: int = field(default=False, init=False)\n",
    "    name: str = field(default=False, init=False)\n",
    "    hours_worked: Union[float, int] = field(default=False, init=False)\n",
    "    hour_rate: Union[float, int] = field(default=False, init=False)\n",
    "\n",
    "    def __post_init__(self):\n",
    "        HourlyPolicy.__init__(self, self.hours_worked, self.hour_rate)\n",
    "        super().__init__(self.id, self.name)\n",
    "\n",
    "\n",
    "@dataclass\n",
    "class EmployeeDatabase:\n",
    "    _employees: List[Dict[str, str]] =  field(default=Dict)\n",
    "\n",
    "    def __post_init__(self):\n",
    "        self._employees = [\n",
    "            {\"id\": 1, \"name\":\"Mayr Gayns\", \"role\": \"manager\"},\n",
    "            {'id': 2, 'name': 'John Smith','role': 'secretary'},\n",
    "            {'id': 3, 'name': 'Kevin Bacon', 'role': 'sales'},\n",
    "            {'id': 4, 'name': 'Jane Doe', 'role': 'factory'},\n",
    "            {'id': 5, 'name': 'Robin Williams', 'role': 'secretary'},\n",
    "        ]\n",
    "        self.productivity = ProductivitySystem()\n",
    "        self.payroll = PayrollSystem()\n",
    "        self.employee_addresses = AddressBook()\n",
    "\n",
    "    @property\n",
    "    def employees(self):\n",
    "        return [self._create_employee(**data) for data in self._employees]\n",
    "\n",
    "    def _create_employee(self, id: str, name: str, role: str):\n",
    "        address = self.employee_addresses.get_employee_address(id)\n",
    "        employee_role = self.productivity.get_role(role)\n",
    "        payroll_policy = self.payroll.get_policy(id)\n",
    "        return Employee(id=id, name=name, address=address, role=employee_role, payroll=payroll_policy)\n"
   ],
   "outputs": [],
   "metadata": {}
  },
  {
   "cell_type": "code",
   "execution_count": null,
   "source": [
    "%%writefile program_.py\n",
    "\n",
    "from hr_ import PayrollSystem\n",
    "from employees_ import EmployeeDatabase\n",
    "from productivity_ import ProductivitySystem\n",
    "\n",
    "productivity_system = ProductivitySystem()\n",
    "payroll_system = PayrollSystem()\n",
    "employee_database = EmployeeDatabase()\n",
    "employees = employee_database.employees\n",
    "productivity_system.track(employees=employees, hours=40)\n",
    "payroll_system.calculate_payroll(employees)\n"
   ],
   "outputs": [],
   "metadata": {}
  },
  {
   "cell_type": "code",
   "execution_count": null,
   "source": [
    "!python program_.py"
   ],
   "outputs": [],
   "metadata": {}
  },
  {
   "cell_type": "code",
   "execution_count": null,
   "source": [],
   "outputs": [],
   "metadata": {}
  },
  {
   "cell_type": "code",
   "execution_count": null,
   "source": [
    "import uuid\n",
    "from dataclasses import dataclass, field\n",
    "from typing import List, Dict\n",
    "\n",
    "def gen_random_id():\n",
    "    return uuid.uuid1().hex\n",
    "\n",
    "@dataclass\n",
    "class Employee:\n",
    "    name: str\n",
    "    id: str = field(default_factory=gen_random_id)\n",
    "    working_hrs: int = field(default=40)\n",
    "\n",
    "@dataclass\n",
    "class EmployeesDB:\n",
    "    _employees: List[Dict[str, Employee]] = field(default=Dict)\n",
    "\n",
    "    def __post_init__(self):\n",
    "        self._employees = [{\n",
    "            \"emp1\": Employee(\"Doe\"),\n",
    "            \"emp2\": Employee(\"Jane\", working_hrs=50),\n",
    "            \"emp3\": Employee(\"Kwesi\", working_hrs=20),\n",
    "        }]\n",
    "\n",
    "    @property\n",
    "    def employees(self):\n",
    "        return [employee for employee in self._employees]\n"
   ],
   "outputs": [],
   "metadata": {}
  }
 ],
 "metadata": {
  "orig_nbformat": 4,
  "language_info": {
   "name": "python",
   "version": "3.9.5",
   "mimetype": "text/x-python",
   "codemirror_mode": {
    "name": "ipython",
    "version": 3
   },
   "pygments_lexer": "ipython3",
   "nbconvert_exporter": "python",
   "file_extension": ".py"
  },
  "kernelspec": {
   "name": "python3",
   "display_name": "Python 3.9.5 64-bit ('ml_3.9': conda)"
  },
  "interpreter": {
   "hash": "8fb32b4a763607e55b4eaa17ff711ea3be1e8d15fb59c66210835a4625460ab3"
  }
 },
 "nbformat": 4,
 "nbformat_minor": 2
}